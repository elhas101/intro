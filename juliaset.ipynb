{
 "cells": [
  {
   "cell_type": "markdown",
   "metadata": {
    "collapsed": false
   },
   "source": [
    "<h1>Julia Sets<h1>\n",
    "<h2>Abdal Elhassani</h2>"
   ]
  },
  {
   "cell_type": "code",
   "execution_count": 3,
   "metadata": {
    "collapsed": false
   },
   "outputs": [],
   "source": [
    "class JuliaSet(object):\n",
    "    \n",
    "    def __init__(self, c, n, d):\n",
    "        self.c = complex(0.0,0.9)\n",
    "        self.n = 100\n",
    "        self._d = 0.001\n",
    "    \n",
    "    def juliamap(self, z):\n",
    "        return z*z + self.c\n",
    "    \n",
    "    def iterate(self, z):\n",
    "        m = 0\n",
    "        while (abs(z) <= 2 or m < self.n):\n",
    "            m =+ 1\n",
    "            if (abs(z) > 2):\n",
    "                return m\n",
    "            elif (m > self.n):\n",
    "                return 0\n",
    "    \n",
    "    def drange(start, stop, step):\n",
    "        r = start\n",
    "        while r < stop:\n",
    "            yield r\n",
    "            r += step\n",
    "    # Generate evenly spaced values over x and y planes\n",
    "\n",
    "    def _complexplane(self, d):\n",
    "        x_range=drange(-2, 2, self._d)\n",
    "        y_range=drange(-2, 2, self._d)\n",
    "        z_plane = []\n",
    "        for x in x_range:\n",
    "            for y in y_range:\n",
    "                z = complex(x, y)\n",
    "                z_plane.append(z)\n",
    "        return z_plane\n",
    "    \n",
    "    def set_spacing(self, d):\n",
    "        self._d = d\n",
    "        _complexplane(d)\n",
    "        \n",
    "    def generate(self):\n",
    "        julia_set = set(iterate(_complexplane))\n",
    "    \n"
   ]
  },
  {
   "cell_type": "markdown",
   "metadata": {},
   "source": [
    "<p>10. The juliaset class can be tested using JuliaSet(c, n, d) while setting the right parameters. Testing different parameters and colorizing the output into a canvas in order to see it would be a way to see the juliaset output.\n",
    "\n",
    "</p>\n",
    "\n",
    "\n"
   ]
  },
  {
   "cell_type": "code",
   "execution_count": null,
   "metadata": {
    "collapsed": true
   },
   "outputs": [],
   "source": []
  }
 ],
 "metadata": {
  "kernelspec": {
   "display_name": "Python 2",
   "language": "python",
   "name": "python2"
  },
  "language_info": {
   "codemirror_mode": {
    "name": "ipython",
    "version": 2
   },
   "file_extension": ".py",
   "mimetype": "text/x-python",
   "name": "python",
   "nbconvert_exporter": "python",
   "pygments_lexer": "ipython2",
   "version": "2.7.8"
  },
  "name": "juliaset.ipynb"
 },
 "nbformat": 4,
 "nbformat_minor": 0
}
