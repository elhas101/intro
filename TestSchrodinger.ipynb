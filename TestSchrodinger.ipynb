{
 "cells": [
  {
   "cell_type": "code",
   "execution_count": null,
   "metadata": {
    "collapsed": false
   },
   "outputs": [],
   "source": [
    "import schrodinger as sch\n",
    "\n",
    "s = sch.Schrodinger(lambda x : 200*x**2, npts=6000, start=-2, end=2)\n",
    "\n",
    "w = sch.wavefunction(s, lambda x : np.exp(-100*(x - 0.1)**2))\n",
    "\n",
    "w0 = w.next()\n",
    "\n",
    "a0 = sch.plot_prob(s,w0)\n",
    "\n",
    "w1 = w.next()\n",
    "\n",
    "a1 = sch.plot_prob(s,w1)"
   ]
  },
  {
   "cell_type": "code",
   "execution_count": null,
   "metadata": {
    "collapsed": true
   },
   "outputs": [],
   "source": []
  },
  {
   "cell_type": "code",
   "execution_count": null,
   "metadata": {
    "collapsed": true
   },
   "outputs": [],
   "source": []
  },
  {
   "cell_type": "code",
   "execution_count": null,
   "metadata": {
    "collapsed": true
   },
   "outputs": [],
   "source": []
  }
 ],
 "metadata": {
  "kernelspec": {
   "display_name": "Python 2",
   "language": "python",
   "name": "python2"
  },
  "language_info": {
   "codemirror_mode": {
    "name": "ipython",
    "version": 2
   },
   "file_extension": ".py",
   "mimetype": "text/x-python",
   "name": "python",
   "nbconvert_exporter": "python",
   "pygments_lexer": "ipython2",
   "version": "2.7.9"
  },
  "name": "TestSchrodinger.ipynb"
 },
 "nbformat": 4,
 "nbformat_minor": 0
}
